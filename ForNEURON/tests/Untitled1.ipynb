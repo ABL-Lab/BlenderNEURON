{
 "cells": [
  {
   "cell_type": "code",
   "execution_count": 1,
   "metadata": {},
   "outputs": [],
   "source": [
    "from client import Blender\n",
    "from time import sleep"
   ]
  },
  {
   "cell_type": "code",
   "execution_count": 3,
   "metadata": {},
   "outputs": [
    {
     "name": "stdout",
     "output_type": "stream",
     "text": [
      "launched\n",
      "sleeping\n",
      "sleeping\n",
      "sleeping\n",
      "sleeping\n",
      "sleeping\n",
      "closed\n"
     ]
    }
   ],
   "source": [
    "with Blender():\n",
    "    print(\"launched\")\n",
    "    from blenderneuron.quick import bn\n",
    "    while not bn.is_blender_ready():\n",
    "        print('sleeping')\n",
    "        sleep(0.1)\n",
    "    \n",
    "print(\"closed\")"
   ]
  },
  {
   "cell_type": "code",
   "execution_count": 7,
   "metadata": {},
   "outputs": [],
   "source": [
    "import unittest\n",
    "suite = unittest.TestLoader().loadTestsFromTestCase(TestMorphologyExport)\n",
    "#unittest.TextTestRunner(verbosity=2).run(suite)"
   ]
  },
  {
   "cell_type": "code",
   "execution_count": 12,
   "metadata": {},
   "outputs": [
    {
     "data": {
      "text/plain": [
       "['__call__',\n",
       " '__class__',\n",
       " '__delattr__',\n",
       " '__dict__',\n",
       " '__doc__',\n",
       " '__eq__',\n",
       " '__format__',\n",
       " '__getattribute__',\n",
       " '__hash__',\n",
       " '__init__',\n",
       " '__iter__',\n",
       " '__module__',\n",
       " '__ne__',\n",
       " '__new__',\n",
       " '__reduce__',\n",
       " '__reduce_ex__',\n",
       " '__repr__',\n",
       " '__setattr__',\n",
       " '__sizeof__',\n",
       " '__str__',\n",
       " '__subclasshook__',\n",
       " '__weakref__',\n",
       " '_addClassOrModuleLevelException',\n",
       " '_get_previous_module',\n",
       " '_handleClassSetUp',\n",
       " '_handleModuleFixture',\n",
       " '_handleModuleTearDown',\n",
       " '_tearDownPreviousClass',\n",
       " '_tests',\n",
       " 'addTest',\n",
       " 'addTests',\n",
       " 'countTestCases',\n",
       " 'debug',\n",
       " 'run']"
      ]
     },
     "execution_count": 12,
     "metadata": {},
     "output_type": "execute_result"
    }
   ],
   "source": [
    "dir(suite)"
   ]
  },
  {
   "cell_type": "code",
   "execution_count": null,
   "metadata": {},
   "outputs": [],
   "source": [
    "from client import TestMorphologyExport\n",
    "t = TestMorphologyExport()\n",
    "t.test_ping()"
   ]
  }
 ],
 "metadata": {
  "kernelspec": {
   "display_name": "Python 2",
   "language": "python",
   "name": "python2"
  },
  "language_info": {
   "codemirror_mode": {
    "name": "ipython",
    "version": 2
   },
   "file_extension": ".py",
   "mimetype": "text/x-python",
   "name": "python",
   "nbconvert_exporter": "python",
   "pygments_lexer": "ipython2",
   "version": "2.7.14"
  }
 },
 "nbformat": 4,
 "nbformat_minor": 2
}
