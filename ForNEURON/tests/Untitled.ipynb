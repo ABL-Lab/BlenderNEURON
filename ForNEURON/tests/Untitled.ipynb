{
 "cells": [
  {
   "cell_type": "code",
   "execution_count": 1,
   "metadata": {},
   "outputs": [],
   "source": [
    "import sys\n",
    "sys.path.append(\"..\")"
   ]
  },
  {
   "cell_type": "code",
   "execution_count": 2,
   "metadata": {},
   "outputs": [
    {
     "name": "stderr",
     "output_type": "stream",
     "text": [
      "Could not find thread pid_34044_id_140422798146768\n",
      "Available: ['pid_34199_id_139658222273104', 'pid_34199_id_139658096827600', 'pid_34199_id_139658043553872', 'pid_34199_id_139658043555152', 'pid_34199_id_139658043554896', 'pid_34199_id_139658079775440', 'pid_34199_id_139658043553424', 'pid_34199_id_139658096827216', 'pid_34199_id_139658096870160']\n",
      "Could not find thread pid_34044_id_140422781094608\n",
      "Available: ['pid_34199_id_139658222273104', 'pid_34199_id_139658096827600', 'pid_34199_id_139658043553872', 'pid_34199_id_139658043555152', 'pid_34199_id_139658043554896', 'pid_34199_id_139658079775440', 'pid_34199_id_139658043553424', 'pid_34199_id_139658096827216', 'pid_34199_id_139658096870160']\n",
      "Could not find thread pid_34044_id_140422798189328\n",
      "Available: ['pid_34199_id_139658222273104', 'pid_34199_id_139658096827600', 'pid_34199_id_139658043553872', 'pid_34199_id_139658043555152', 'pid_34199_id_139658043554896', 'pid_34199_id_139658079775440', 'pid_34199_id_139658043553424', 'pid_34199_id_139658096827216', 'pid_34199_id_139658096870160']\n",
      "Could not find thread pid_34044_id_140421769720656\n",
      "Available: ['pid_34199_id_139658222273104', 'pid_34199_id_139658096827600', 'pid_34199_id_139658043553872', 'pid_34199_id_139658043555152', 'pid_34199_id_139658043554896', 'pid_34199_id_139658079775440', 'pid_34199_id_139658043553424', 'pid_34199_id_139658096827216', 'pid_34199_id_139658096870160']\n",
      "Could not find thread pid_33901_id_140327219106192\n",
      "Available: ['pid_34199_id_139658222273104', 'pid_34199_id_139658096827600', 'pid_34199_id_139658043553872', 'pid_34199_id_139658043555152', 'pid_34199_id_139658043554896', 'pid_34199_id_139658079775440', 'pid_34199_id_139658043553424', 'pid_34199_id_139658096827216', 'pid_34199_id_139658096870160']\n",
      "Could not find thread pid_34044_id_140422798146384\n",
      "Available: ['pid_34199_id_139658222273104', 'pid_34199_id_139658096827600', 'pid_34199_id_139658043553872', 'pid_34199_id_139658043555152', 'pid_34199_id_139658043554896', 'pid_34199_id_139658079775440', 'pid_34199_id_139658043553424', 'pid_34199_id_139658096827216', 'pid_34199_id_139658096870160']\n"
     ]
    },
    {
     "ename": "TypeError",
     "evalue": "'code' object has no attribute '__getitem__'",
     "output_type": "error",
     "traceback": [
      "\u001b[0;31m---------------------------------------------------------------------------\u001b[0m",
      "\u001b[0;31mTypeError\u001b[0m                                 Traceback (most recent call last)",
      "\u001b[0;32m<ipython-input-2-f58217ab03de>\u001b[0m in \u001b[0;36m<module>\u001b[0;34m()\u001b[0m\n\u001b[0;32m----> 1\u001b[0;31m \u001b[0;32mfrom\u001b[0m \u001b[0mblenderneuron\u001b[0m \u001b[0;32mimport\u001b[0m \u001b[0mbn\u001b[0m\u001b[0;34m\u001b[0m\u001b[0m\n\u001b[0m",
      "\u001b[0;32m/home/justas/Repositories/BlenderNEURON/ForNEURON/blenderneuron/__init__.py\u001b[0m in \u001b[0;36m<module>\u001b[0;34m()\u001b[0m\n\u001b[1;32m      6\u001b[0m \u001b[0;34m\u001b[0m\u001b[0m\n\u001b[1;32m      7\u001b[0m \u001b[0mf1\u001b[0m \u001b[0;34m=\u001b[0m \u001b[0msys\u001b[0m\u001b[0;34m.\u001b[0m\u001b[0m_getframe\u001b[0m\u001b[0;34m(\u001b[0m\u001b[0;36m1\u001b[0m\u001b[0;34m)\u001b[0m\u001b[0;34m\u001b[0m\u001b[0m\n\u001b[0;32m----> 8\u001b[0;31m \u001b[0mop\u001b[0m \u001b[0;34m=\u001b[0m \u001b[0mf1\u001b[0m\u001b[0;34m.\u001b[0m\u001b[0mf_code\u001b[0m\u001b[0;34m[\u001b[0m\u001b[0mf1\u001b[0m\u001b[0;34m.\u001b[0m\u001b[0mf_lasti\u001b[0m\u001b[0;34m+\u001b[0m\u001b[0;36m3\u001b[0m\u001b[0;34m]\u001b[0m\u001b[0;34m\u001b[0m\u001b[0m\n\u001b[0m\u001b[1;32m      9\u001b[0m \u001b[0;32mdel\u001b[0m \u001b[0mf1\u001b[0m\u001b[0;34m\u001b[0m\u001b[0m\n\u001b[1;32m     10\u001b[0m \u001b[0;34m\u001b[0m\u001b[0m\n",
      "\u001b[0;31mTypeError\u001b[0m: 'code' object has no attribute '__getitem__'"
     ]
    }
   ],
   "source": [
    "from blenderneuron import bn"
   ]
  },
  {
   "cell_type": "code",
   "execution_count": 4,
   "metadata": {},
   "outputs": [
    {
     "data": {
      "text/plain": [
       "<blenderneuron.client.BlenderNEURON at 0x7fb6b878ecd0>"
      ]
     },
     "execution_count": 4,
     "metadata": {},
     "output_type": "execute_result"
    }
   ],
   "source": [
    "bn.bnc"
   ]
  },
  {
   "cell_type": "code",
   "execution_count": 9,
   "metadata": {},
   "outputs": [],
   "source": [
    "from neuron import h, gui"
   ]
  },
  {
   "cell_type": "code",
   "execution_count": 6,
   "metadata": {},
   "outputs": [
    {
     "data": {
      "text/plain": [
       "<TopLevelHocInterpreter>"
      ]
     },
     "execution_count": 6,
     "metadata": {},
     "output_type": "execute_result"
    }
   ],
   "source": [
    "h"
   ]
  },
  {
   "cell_type": "code",
   "execution_count": 8,
   "metadata": {},
   "outputs": [
    {
     "ename": "AttributeError",
     "evalue": "'hoc.HocObject' object has no attribute 'run'",
     "output_type": "error",
     "traceback": [
      "\u001b[0;31m---------------------------------------------------------------------------\u001b[0m",
      "\u001b[0;31mAttributeError\u001b[0m                            Traceback (most recent call last)",
      "\u001b[0;32m<ipython-input-8-278167138dfe>\u001b[0m in \u001b[0;36m<module>\u001b[0;34m()\u001b[0m\n\u001b[0;32m----> 1\u001b[0;31m \u001b[0mh\u001b[0m\u001b[0;34m.\u001b[0m\u001b[0mrun\u001b[0m\u001b[0;34m\u001b[0m\u001b[0m\n\u001b[0m",
      "\u001b[0;31mAttributeError\u001b[0m: 'hoc.HocObject' object has no attribute 'run'"
     ]
    }
   ],
   "source": [
    "h.run"
   ]
  },
  {
   "cell_type": "code",
   "execution_count": null,
   "metadata": {},
   "outputs": [],
   "source": []
  }
 ],
 "metadata": {
  "kernelspec": {
   "display_name": "Python 2",
   "language": "python",
   "name": "python2"
  },
  "language_info": {
   "codemirror_mode": {
    "name": "ipython",
    "version": 2
   },
   "file_extension": ".py",
   "mimetype": "text/x-python",
   "name": "python",
   "nbconvert_exporter": "python",
   "pygments_lexer": "ipython2",
   "version": "2.7.14"
  }
 },
 "nbformat": 4,
 "nbformat_minor": 2
}
